{
  "nbformat": 4,
  "nbformat_minor": 0,
  "metadata": {
    "colab": {
      "name": "C1_W4_TrainingGen_ConvNet.ipynb",
      "provenance": [],
      "collapsed_sections": [],
      "authorship_tag": "ABX9TyOcT/6HZ1bPEuDsgj3zDUxA",
      "include_colab_link": true
    },
    "kernelspec": {
      "name": "python3",
      "display_name": "Python 3"
    },
    "language_info": {
      "name": "python"
    },
    "accelerator": "GPU"
  },
  "cells": [
    {
      "cell_type": "markdown",
      "metadata": {
        "id": "view-in-github",
        "colab_type": "text"
      },
      "source": [
        "<a href=\"https://colab.research.google.com/github/deepankar27/ML_Tutorials/blob/master/W4/assigment/TrainingGen_ConvNet.ipynb\" target=\"_parent\"><img src=\"https://colab.research.google.com/assets/colab-badge.svg\" alt=\"Open In Colab\"/></a>"
      ]
    },
    {
      "cell_type": "code",
      "metadata": {
        "colab": {
          "base_uri": "https://localhost:8080/"
        },
        "id": "2pA-ba_N6KgC",
        "outputId": "cb57a4d9-7899-4d01-cb14-7885fce59b75"
      },
      "source": [
        "!wget --no-check-certificate https://storage.googleapis.com/laurencemoroney-blog.appspot.com/horse-or-human.zip"
      ],
      "execution_count": 1,
      "outputs": [
        {
          "output_type": "stream",
          "name": "stdout",
          "text": [
            "--2021-09-27 09:07:02--  https://storage.googleapis.com/laurencemoroney-blog.appspot.com/horse-or-human.zip\n",
            "Resolving storage.googleapis.com (storage.googleapis.com)... 142.251.8.128, 74.125.23.128, 74.125.203.128, ...\n",
            "Connecting to storage.googleapis.com (storage.googleapis.com)|142.251.8.128|:443... connected.\n",
            "HTTP request sent, awaiting response... 200 OK\n",
            "Length: 149574867 (143M) [application/zip]\n",
            "Saving to: ‘horse-or-human.zip’\n",
            "\n",
            "horse-or-human.zip  100%[===================>] 142.65M  41.2MB/s    in 3.5s    \n",
            "\n",
            "2021-09-27 09:07:06 (41.2 MB/s) - ‘horse-or-human.zip’ saved [149574867/149574867]\n",
            "\n"
          ]
        }
      ]
    },
    {
      "cell_type": "code",
      "metadata": {
        "colab": {
          "base_uri": "https://localhost:8080/"
        },
        "id": "pTYYdBe8H555",
        "outputId": "677b95ae-e84b-481f-cfa0-2be4eda037ba"
      },
      "source": [
        "!wget --no-check-certificate https://storage.googleapis.com/laurencemoroney-blog.appspot.com/validation-horse-or-human.zip"
      ],
      "execution_count": 2,
      "outputs": [
        {
          "output_type": "stream",
          "name": "stdout",
          "text": [
            "--2021-09-27 09:07:40--  https://storage.googleapis.com/laurencemoroney-blog.appspot.com/validation-horse-or-human.zip\n",
            "Resolving storage.googleapis.com (storage.googleapis.com)... 108.177.125.128, 142.251.8.128, 74.125.203.128, ...\n",
            "Connecting to storage.googleapis.com (storage.googleapis.com)|108.177.125.128|:443... connected.\n",
            "HTTP request sent, awaiting response... 200 OK\n",
            "Length: 11480187 (11M) [application/zip]\n",
            "Saving to: ‘validation-horse-or-human.zip’\n",
            "\n",
            "validation-horse-or 100%[===================>]  10.95M  25.9MB/s    in 0.4s    \n",
            "\n",
            "2021-09-27 09:07:41 (25.9 MB/s) - ‘validation-horse-or-human.zip’ saved [11480187/11480187]\n",
            "\n"
          ]
        }
      ]
    },
    {
      "cell_type": "code",
      "metadata": {
        "id": "ihRb-nbZ6rWa"
      },
      "source": [
        "!unzip \"/content/Data/horse-or-human.zip\" -d \"/content/Data/horses-or-human\""
      ],
      "execution_count": null,
      "outputs": []
    },
    {
      "cell_type": "code",
      "metadata": {
        "id": "lrymA7wTJXuj"
      },
      "source": [
        "!unzip \"/content/Val_Data/validation-horse-or-human.zip\" -d \"/content/Val_Data/horses-or-human\""
      ],
      "execution_count": null,
      "outputs": []
    },
    {
      "cell_type": "code",
      "metadata": {
        "id": "Zggfqw7e7Lsx"
      },
      "source": [
        "import tensorflow as tf\n",
        "import numpy as np\n",
        "from tensorflow.keras.optimizers import RMSprop\n",
        "from tensorflow.keras.preprocessing.image import ImageDataGenerator"
      ],
      "execution_count": 5,
      "outputs": []
    },
    {
      "cell_type": "code",
      "metadata": {
        "id": "_b-iDPczEXfm"
      },
      "source": [
        "train_dir = \"/content/Data/horses-or-human\"\n",
        "val_dir = \"/content/Val_Data/horses-or-human\""
      ],
      "execution_count": 6,
      "outputs": []
    },
    {
      "cell_type": "code",
      "metadata": {
        "colab": {
          "base_uri": "https://localhost:8080/"
        },
        "id": "YwNXcOhnBto0",
        "outputId": "d45499ab-0562-4bcc-9113-52a4ce3c5aef"
      },
      "source": [
        "train_data_gen = ImageDataGenerator(rescale=1./255)\n",
        "train_generator = train_data_gen.flow_from_directory(\n",
        "                train_dir,\n",
        "                target_size=(300,300),\n",
        "                batch_size=128,\n",
        "                class_mode=\"binary\"\n",
        ")"
      ],
      "execution_count": 7,
      "outputs": [
        {
          "output_type": "stream",
          "name": "stdout",
          "text": [
            "Found 1027 images belonging to 2 classes.\n"
          ]
        }
      ]
    },
    {
      "cell_type": "code",
      "metadata": {
        "colab": {
          "base_uri": "https://localhost:8080/"
        },
        "id": "fpS9vdvdFf4N",
        "outputId": "b23657f4-fb06-42ba-bf78-ef18cb825907"
      },
      "source": [
        "validation_generator = train_data_gen.flow_from_directory(\n",
        "                      val_dir,\n",
        "                      target_size =(300,300),\n",
        "                      batch_size=32,\n",
        "                      class_mode=\"binary\"\n",
        ")"
      ],
      "execution_count": 8,
      "outputs": [
        {
          "output_type": "stream",
          "name": "stdout",
          "text": [
            "Found 256 images belonging to 2 classes.\n"
          ]
        }
      ]
    },
    {
      "cell_type": "code",
      "metadata": {
        "colab": {
          "base_uri": "https://localhost:8080/"
        },
        "id": "djCUtflJZTid",
        "outputId": "03ea2845-19f3-408b-8dc7-b6dbf66d1242"
      },
      "source": [
        "model = tf.keras.Sequential([\n",
        "                             tf.keras.layers.Conv2D(16,(3,3), activation='relu', input_shape=(300,300,3)),\n",
        "                             tf.keras.layers.MaxPool2D(2,2),\n",
        "                             tf.keras.layers.Conv2D(32,(3,3), activation='relu'),\n",
        "                             tf.keras.layers.MaxPool2D(2,2),\n",
        "                             tf.keras.layers.Conv2D(64,(3,3), activation='relu'),\n",
        "                             tf.keras.layers.MaxPool2D(2,2),\n",
        "                             tf.keras.layers.Conv2D(64,(3,3), activation='relu'),\n",
        "                             tf.keras.layers.MaxPool2D(2,2),\n",
        "                             tf.keras.layers.Conv2D(64,(3,3), activation='relu'),\n",
        "                             tf.keras.layers.MaxPool2D(2,2),\n",
        "                             tf.keras.layers.Flatten(),\n",
        "                             tf.keras.layers.Dense(units=512, activation='relu'),\n",
        "                             tf.keras.layers.Dense(1, activation='sigmoid')\n",
        "])\n",
        "\n",
        "model.compile(optimizer=RMSprop(learning_rate=0.001), loss='binary_crossentropy', metrics=['acc'])\n",
        "model.summary()"
      ],
      "execution_count": 12,
      "outputs": [
        {
          "output_type": "stream",
          "name": "stdout",
          "text": [
            "Model: \"sequential_1\"\n",
            "_________________________________________________________________\n",
            "Layer (type)                 Output Shape              Param #   \n",
            "=================================================================\n",
            "conv2d_3 (Conv2D)            (None, 298, 298, 16)      448       \n",
            "_________________________________________________________________\n",
            "max_pooling2d_3 (MaxPooling2 (None, 149, 149, 16)      0         \n",
            "_________________________________________________________________\n",
            "conv2d_4 (Conv2D)            (None, 147, 147, 32)      4640      \n",
            "_________________________________________________________________\n",
            "max_pooling2d_4 (MaxPooling2 (None, 73, 73, 32)        0         \n",
            "_________________________________________________________________\n",
            "conv2d_5 (Conv2D)            (None, 71, 71, 64)        18496     \n",
            "_________________________________________________________________\n",
            "max_pooling2d_5 (MaxPooling2 (None, 35, 35, 64)        0         \n",
            "_________________________________________________________________\n",
            "conv2d_6 (Conv2D)            (None, 33, 33, 64)        36928     \n",
            "_________________________________________________________________\n",
            "max_pooling2d_6 (MaxPooling2 (None, 16, 16, 64)        0         \n",
            "_________________________________________________________________\n",
            "conv2d_7 (Conv2D)            (None, 14, 14, 64)        36928     \n",
            "_________________________________________________________________\n",
            "max_pooling2d_7 (MaxPooling2 (None, 7, 7, 64)          0         \n",
            "_________________________________________________________________\n",
            "flatten_1 (Flatten)          (None, 3136)              0         \n",
            "_________________________________________________________________\n",
            "dense_2 (Dense)              (None, 512)               1606144   \n",
            "_________________________________________________________________\n",
            "dense_3 (Dense)              (None, 1)                 513       \n",
            "=================================================================\n",
            "Total params: 1,704,097\n",
            "Trainable params: 1,704,097\n",
            "Non-trainable params: 0\n",
            "_________________________________________________________________\n"
          ]
        }
      ]
    },
    {
      "cell_type": "code",
      "metadata": {
        "colab": {
          "base_uri": "https://localhost:8080/"
        },
        "id": "9nycCgl2cWpQ",
        "outputId": "5727bf95-211b-46a2-e117-ba037a70bdc6"
      },
      "source": [
        "model.fit_generator(\n",
        "                    train_generator,\n",
        "                    steps_per_epoch=8,\n",
        "                    epochs=15,\n",
        "                    validation_data=validation_generator,\n",
        "                    validation_steps=8,\n",
        "                    verbose=2\n",
        ")"
      ],
      "execution_count": 13,
      "outputs": [
        {
          "output_type": "stream",
          "name": "stderr",
          "text": [
            "/usr/local/lib/python3.7/dist-packages/keras/engine/training.py:1972: UserWarning: `Model.fit_generator` is deprecated and will be removed in a future version. Please use `Model.fit`, which supports generators.\n",
            "  warnings.warn('`Model.fit_generator` is deprecated and '\n"
          ]
        },
        {
          "output_type": "stream",
          "name": "stdout",
          "text": [
            "Epoch 1/15\n",
            "8/8 - 8s - loss: 0.7965 - acc: 0.5161 - val_loss: 0.6084 - val_acc: 0.8828\n",
            "Epoch 2/15\n",
            "8/8 - 7s - loss: 1.0862 - acc: 0.6229 - val_loss: 0.4441 - val_acc: 0.8516\n",
            "Epoch 3/15\n",
            "8/8 - 7s - loss: 1.0517 - acc: 0.7764 - val_loss: 0.6665 - val_acc: 0.6328\n",
            "Epoch 4/15\n",
            "8/8 - 7s - loss: 1.0003 - acc: 0.8487 - val_loss: 0.4874 - val_acc: 0.7969\n",
            "Epoch 5/15\n",
            "8/8 - 7s - loss: 0.3089 - acc: 0.9232 - val_loss: 2.2455 - val_acc: 0.6328\n",
            "Epoch 6/15\n",
            "8/8 - 7s - loss: 0.2189 - acc: 0.9166 - val_loss: 0.9066 - val_acc: 0.8555\n",
            "Epoch 7/15\n",
            "8/8 - 7s - loss: 0.1164 - acc: 0.9600 - val_loss: 0.7180 - val_acc: 0.8906\n",
            "Epoch 8/15\n",
            "8/8 - 7s - loss: 0.2654 - acc: 0.8999 - val_loss: 1.1625 - val_acc: 0.8164\n",
            "Epoch 9/15\n",
            "8/8 - 7s - loss: 0.3297 - acc: 0.9066 - val_loss: 0.9357 - val_acc: 0.7812\n",
            "Epoch 10/15\n",
            "8/8 - 7s - loss: 0.6835 - acc: 0.9032 - val_loss: 0.4495 - val_acc: 0.8633\n",
            "Epoch 11/15\n",
            "8/8 - 7s - loss: 0.1496 - acc: 0.9655 - val_loss: 1.1476 - val_acc: 0.8164\n",
            "Epoch 12/15\n",
            "8/8 - 7s - loss: 0.0484 - acc: 0.9878 - val_loss: 2.0440 - val_acc: 0.7773\n",
            "Epoch 13/15\n",
            "8/8 - 7s - loss: 0.0329 - acc: 0.9889 - val_loss: 1.5149 - val_acc: 0.8242\n",
            "Epoch 14/15\n",
            "8/8 - 7s - loss: 0.0158 - acc: 0.9967 - val_loss: 3.6024 - val_acc: 0.7344\n",
            "Epoch 15/15\n",
            "8/8 - 7s - loss: 0.1801 - acc: 0.9366 - val_loss: 1.6566 - val_acc: 0.8359\n"
          ]
        },
        {
          "output_type": "execute_result",
          "data": {
            "text/plain": [
              "<keras.callbacks.History at 0x7fda5e234bd0>"
            ]
          },
          "metadata": {},
          "execution_count": 13
        }
      ]
    },
    {
      "cell_type": "code",
      "metadata": {
        "id": "2iKbXnOQeGZu"
      },
      "source": [
        ""
      ],
      "execution_count": null,
      "outputs": []
    }
  ]
}